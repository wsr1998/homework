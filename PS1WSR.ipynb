{
 "cells": [
  {
   "cell_type": "markdown",
   "metadata": {},
   "source": [
    "# Homework Assignment 1: Basic Python\n",
    "\n",
    "In this homework, we will review basic properties of python, specifically loops, conditionals, functions, and basic data structures.\n",
    "\n",
    "Homework Guidelines:\n",
    "\n",
    "1) Document your code! Only part of your score on the homework will be if you get the \"right\" answer. In order for us to understand what you've written, you need to have clearly written code. Documenting your code with comments (# sign) and spacing out your code (but not too much) makes it easier to read. You should also make use of the markdown feature of ipython notebooks for longer explanations or to imbed pictures/formulas. \n",
    "\n",
    "2) You may google around for tools for solving the homework problems (StackExchange will often pop up!) but DO NOT google the exact problem statement or copy blocks of code from elsewhere.\n",
    "\n",
    "3) You can work in small groups to complete assignments and share code within the small group. Please specify who you worked with if your submitted solutions are similar/identical.\n",
    "\n",
    "4) Various python packages have built in routines for common programming tasks. If you want to use an external (i.e. import X) package which isn't imported in the problem statement please ask the instructor first.\n",
    "\n",
    "5) Some problem statements might be vague or unspecific (like \"Explore the relationship between X and Y\"), just like real research questions! When in doubt it would be useful to provide plots and your observations."
   ]
  },
  {
   "cell_type": "markdown",
   "metadata": {},
   "source": [
    "# Problem 0: Precourse Survey (0 points)\n",
    "\n",
    "If you have not already done so, please complete the pre-course survey availabe here:\n",
    "    https://forms.gle/n7FEdGT8tW9JNhog6"
   ]
  },
  {
   "cell_type": "markdown",
   "metadata": {},
   "source": [
    "# Problem 1: Using git (5 points)\n",
    "\n",
    "Over the course of this homework assignment, make at least 4 commits with informative commit messages. Remember that we can see the messages!"
   ]
  },
  {
   "cell_type": "markdown",
   "metadata": {},
   "source": [
    "# Problem 2: Largest Prime Factor (15 points)\n",
    "\n",
    "The prime factors of a number are the list of prime numbers who's product is equal to that number. I.e. 728 -> 2 2 2 7 13.\n",
    "\n",
    "a) Write a function which lists the prime factors of a number.\n",
    "\n",
    "b) What is the largest prime factor of 10,030,508,582,493?"
   ]
  },
  {
   "cell_type": "code",
   "execution_count": 68,
   "metadata": {
    "scrolled": true
   },
   "outputs": [],
   "source": [
    "def PrimeFactor(num):\n",
    "    #The number must be an int and >=2.\n",
    "    Prime1 = 2\n",
    "    Primelist = []\n",
    "    output = str(num)+'='\n",
    "    if num == Prime1:\n",
    "    #consider the situation that the input number is 2\n",
    "        Primelist.append(Prime1)\n",
    "    else:\n",
    "        while num >= Prime1:\n",
    "            if num % Prime1 == 0:\n",
    "                Primelist.append(Prime1)\n",
    "                num /=Prime1\n",
    "            #in this step, we can not use Prime += 1\n",
    "            #if add Prime += 1\n",
    "            #if input 9, the result is 9=3, that is no correct\n",
    "            else:\n",
    "                Prime1 += 1\n",
    "    for i in Primelist:\n",
    "        #output as num = xxx*xxx*xxx*xx.......\n",
    "        output += str(i) + '*'\n",
    "    print(output[0:len(output)-1])\n",
    "    return Primelist"
   ]
  },
  {
   "cell_type": "code",
   "execution_count": 71,
   "metadata": {},
   "outputs": [
    {
     "name": "stdout",
     "output_type": "stream",
     "text": [
      "10030508582493=3*7*7789*7789*7873\n"
     ]
    },
    {
     "data": {
      "text/plain": [
       "7873"
      ]
     },
     "execution_count": 71,
     "metadata": {},
     "output_type": "execute_result"
    }
   ],
   "source": [
    "a=PrimeFactor(10030508582493)\n",
    "a[len(a)-1]"
   ]
  },
  {
   "cell_type": "markdown",
   "metadata": {},
   "source": [
    "# Problem 3: Division of Factorial Recursive Calculator (15 points)\n",
    "\n",
    "A common mathematical calculation that emerges in the field of combinatorics is the ratio of a two factorials, i.e.\n",
    "$$ \\frac{a!}{b!} = \\frac{a!}{(a-n)!}$$.\n",
    "\n",
    "a) Write a recursive program which will calculate this ratio for a given positive integer $a$ and $n$ (where $n<a$). Remember that a recursive function must call itself if a condition isn't met.\n",
    "\n",
    "b) What is the value for $a=10000$ and $n=13$?\n",
    "\n",
    "c) What is the value for $a=89$ and $n=40$?"
   ]
  },
  {
   "cell_type": "code",
   "execution_count": null,
   "metadata": {},
   "outputs": [],
   "source": [
    "# I use two way to finish the question.\n",
    "#The first way is using recursive function. \n",
    "#The other way is using loop function.\n",
    "#I think using loop function spend more time, and the result cannot fully display.\n",
    "#Because the float can only contant 10 number after decimal point."
   ]
  },
  {
   "cell_type": "code",
   "execution_count": 58,
   "metadata": {},
   "outputs": [],
   "source": [
    "def rule1(a,n):\n",
    "    if n>a:\n",
    "        print('n should be < a')\n",
    "    if n == 0:\n",
    "        return 1\n",
    "    return a*rule1(a-1,n-1)"
   ]
  },
  {
   "cell_type": "code",
   "execution_count": 59,
   "metadata": {},
   "outputs": [
    {
     "data": {
      "text/plain": [
       "9922271143048770786296305556545382530912502016000000"
      ]
     },
     "execution_count": 59,
     "metadata": {},
     "output_type": "execute_result"
    }
   ],
   "source": [
    "rule1(10000,13)"
   ]
  },
  {
   "cell_type": "code",
   "execution_count": 60,
   "metadata": {},
   "outputs": [
    {
     "data": {
      "text/plain": [
       "27138660770557652810885765771467644902728921884082712250490552320000000000"
      ]
     },
     "execution_count": 60,
     "metadata": {},
     "output_type": "execute_result"
    }
   ],
   "source": [
    "rule1(89,40)"
   ]
  },
  {
   "cell_type": "code",
   "execution_count": 41,
   "metadata": {},
   "outputs": [],
   "source": [
    "def rule2(a,n):\n",
    "    #define a fomula, contain parameters a&n\n",
    "    s = 1\n",
    "    t = 1\n",
    "    if a>n:\n",
    "        for i in range(1,a+1):\n",
    "            s*=i\n",
    "        #to get the result of a!\n",
    "        for j in range(1,a-n+1):\n",
    "            t*=j\n",
    "        #to get the result of (a-n)!\n",
    "        m = s/t\n",
    "    else:\n",
    "    #if n>=a,it will not meet the requirement of the question\n",
    "    #but I think a=n is OK in math, because 0!=1\n",
    "        print('The input parameter n is too large. ')\n",
    "    return m\n",
    "    #to get the result of a!/(a-n)!"
   ]
  },
  {
   "cell_type": "code",
   "execution_count": 42,
   "metadata": {},
   "outputs": [
    {
     "data": {
      "text/plain": [
       "9.92227114304877e+51"
      ]
     },
     "execution_count": 42,
     "metadata": {},
     "output_type": "execute_result"
    }
   ],
   "source": [
    "rule2(10000,13)"
   ]
  },
  {
   "cell_type": "code",
   "execution_count": 43,
   "metadata": {},
   "outputs": [
    {
     "data": {
      "text/plain": [
       "2.7138660770557652e+73"
      ]
     },
     "execution_count": 43,
     "metadata": {},
     "output_type": "execute_result"
    }
   ],
   "source": [
    "rule2(89,40)"
   ]
  },
  {
   "cell_type": "markdown",
   "metadata": {},
   "source": [
    "# Problem 4: Largest Palindrome (15 points)\n",
    "\n",
    "\n",
    "A palindrome remains identical when its characters are reversed order. For example, 101 is a palindrome, as is 9339, and 1029201, and 165090561. All of these numbers, when read in reversed order, remain unchanged. In this problem, we will search for the largest palindrome that is also a product of two numbers. For example, the largest palindrome made from the product of two 2-digit numbers is 9009 = 91 × 99.\n",
    "\n",
    "a) What is the largest palidrome that comes from the product of three 2-digit numbers?\n",
    "\n",
    "b) What is the largest palidrome that comes from the product of two 3-digit numbers?"
   ]
  },
  {
   "cell_type": "code",
   "execution_count": 61,
   "metadata": {},
   "outputs": [],
   "source": [
    "#Firstly, I define a fomula to check whether the number input is palindrome.\n",
    "#Secondly，I build a list named Palindromelist1 & Palindromelist1 to store the numbers which are built according to the question.\n",
    "#Then I use max() to find the biggest one in the list.\n",
    "#Finally, I find that the largest palidrome that comes from the product of three 2-digit numbers is 828828 and the largest palidrome that comes from the product of two 3-digit numbers is 906609."
   ]
  },
  {
   "cell_type": "code",
   "execution_count": 5,
   "metadata": {},
   "outputs": [],
   "source": [
    "def checkifPalindrome(a):\n",
    "    c = a\n",
    "    # to store the input number a\n",
    "    b = 1\n",
    "    numlist = []\n",
    "    while a//(10**b) != 0:\n",
    "        b += 1\n",
    "    while b != 0:\n",
    "        d = a//(10**(b-1))\n",
    "        a -= d*(10**(b-1))\n",
    "        numlist.append(d)\n",
    "        b = b-1\n",
    "    #when I input a int, it will translate into list\n",
    "    #e.g when I input 1234, it will turn into[1,2,3,4]\n",
    "    l = len(numlist)\n",
    "    e = 0\n",
    "    if l%2 == 0:\n",
    "        for i in range(0,int(l/2)):\n",
    "            if numlist[i] != numlist[l-i-1]:\n",
    "                e+=1\n",
    "    else:\n",
    "        for i in range(0,int(l-1/2)):\n",
    "            if numlist[i] != numlist[l-i-1]:\n",
    "                e+=1\n",
    "    # if i input a palindrome, e==0, so it's true\n",
    "    if e != 0:\n",
    "        return False\n",
    "    else:\n",
    "        return True"
   ]
  },
  {
   "cell_type": "code",
   "execution_count": 6,
   "metadata": {},
   "outputs": [
    {
     "data": {
      "text/plain": [
       "828828"
      ]
     },
     "execution_count": 6,
     "metadata": {},
     "output_type": "execute_result"
    }
   ],
   "source": [
    "Palindromelist1=[]\n",
    "for i in range(10,100):\n",
    "    for j in range(10,100):\n",
    "        for k in range(10,100):\n",
    "            a = i*j*k\n",
    "            #a is all possible comes from the product of three 2-digit numbers\n",
    "            if checkifPalindrome(a) == True:\n",
    "                Palindromelist1.append(a)\n",
    "max(Palindromelist1)\n",
    "#the result is 828828"
   ]
  },
  {
   "cell_type": "code",
   "execution_count": 7,
   "metadata": {},
   "outputs": [
    {
     "data": {
      "text/plain": [
       "906609"
      ]
     },
     "execution_count": 7,
     "metadata": {},
     "output_type": "execute_result"
    }
   ],
   "source": [
    "Palindromelist2=[]\n",
    "for i in range(100,1000):\n",
    "    for j in range(100,1000):\n",
    "            a = i*j\n",
    "            #a is all possible comes from the product of two 3-digit numbers\n",
    "            if checkifPalindrome(a) == True:\n",
    "                Palindromelist2.append(a)\n",
    "max(Palindromelist2)\n",
    "#the result is 906609"
   ]
  }
 ],
 "metadata": {
  "kernelspec": {
   "display_name": "Python 3",
   "language": "python",
   "name": "python3"
  },
  "language_info": {
   "codemirror_mode": {
    "name": "ipython",
    "version": 3
   },
   "file_extension": ".py",
   "mimetype": "text/x-python",
   "name": "python",
   "nbconvert_exporter": "python",
   "pygments_lexer": "ipython3",
   "version": "3.7.0"
  }
 },
 "nbformat": 4,
 "nbformat_minor": 2
}
